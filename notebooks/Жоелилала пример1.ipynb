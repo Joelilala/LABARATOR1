{
 "cells": [
  {
   "cell_type": "code",
   "execution_count": 1,
   "id": "0221bcef-24ac-427e-b23d-768e96f72847",
   "metadata": {},
   "outputs": [
    {
     "data": {
      "text/plain": [
       "5"
      ]
     },
     "execution_count": 1,
     "metadata": {},
     "output_type": "execute_result"
    }
   ],
   "source": [
    "3+2\n"
   ]
  },
  {
   "cell_type": "code",
   "execution_count": 2,
   "id": "d0242835-c4a0-46c6-9589-772e32901ca9",
   "metadata": {},
   "outputs": [
    {
     "name": "stdout",
     "output_type": "stream",
     "text": [
      "12\n"
     ]
    }
   ],
   "source": [
    "a = 5\n",
    "b = 7\n",
    "print(a + b)"
   ]
  },
  {
   "cell_type": "code",
   "execution_count": 3,
   "id": "189b225f-98d9-485d-9a06-6bce22311110",
   "metadata": {},
   "outputs": [
    {
     "name": "stdout",
     "output_type": "stream",
     "text": [
      "0\n",
      "10\n",
      "20\n",
      "30\n",
      "40\n",
      "50\n",
      "60\n"
     ]
    }
   ],
   "source": [
    "n = 7\n",
    "for i in range(n):\n",
    "    print(i*10)"
   ]
  },
  {
   "cell_type": "code",
   "execution_count": 4,
   "id": "447b7830-8807-4818-8562-543f50dbc137",
   "metadata": {},
   "outputs": [
    {
     "name": "stdout",
     "output_type": "stream",
     "text": [
      "Test while\n",
      "Test while\n",
      "Test while\n",
      "Test while\n",
      "Test while\n"
     ]
    }
   ],
   "source": [
    "i=0\n",
    "while True:\n",
    "    i += 1\n",
    "    if i > 5:\n",
    "        break\n",
    "    print(\"Test while\")"
   ]
  },
  {
   "cell_type": "code",
   "execution_count": null,
   "id": "aee66e82-f32b-4538-b866-18ea9178f500",
   "metadata": {},
   "outputs": [],
   "source": []
  }
 ],
 "metadata": {
  "kernelspec": {
   "display_name": "Python 3 (ipykernel)",
   "language": "python",
   "name": "python3"
  },
  "language_info": {
   "codemirror_mode": {
    "name": "ipython",
    "version": 3
   },
   "file_extension": ".py",
   "mimetype": "text/x-python",
   "name": "python",
   "nbconvert_exporter": "python",
   "pygments_lexer": "ipython3",
   "version": "3.12.7"
  }
 },
 "nbformat": 4,
 "nbformat_minor": 5
}
