{
 "cells": [
  {
   "cell_type": "code",
   "execution_count": 1,
   "id": "3f67b75e-94eb-4d25-91f9-0b7207882608",
   "metadata": {},
   "outputs": [
    {
     "name": "stdout",
     "output_type": "stream",
     "text": [
      " ’®¬ ў гбва®©бвўҐ C ­Ґ Ё¬ҐҐв ¬ҐвЄЁ.\n",
      " ‘ҐаЁ©­л© ­®¬Ґа в®¬ : DE8F-AE32\n",
      "\n",
      " ‘®¤Ґа¦Ё¬®Ґ Ї ЇЄЁ C:\\Users\\Ќ®¬Ґ\\LABARATOR1\\note books\n",
      "\n",
      "18.02.2025  01:29    <DIR>          .\n",
      "18.02.2025  01:29    <DIR>          ..\n",
      "18.02.2025  01:29    <DIR>          .ipynb_checkpoints\n",
      "18.02.2025  01:28                90 script.py\n",
      "18.02.2025  01:29    <DIR>          test_folder\n",
      "14.02.2025  12:41             1я107 †®Ґ«Ё« «  « Ў 1.ipynb\n",
      "18.02.2025  01:21             2я187 †®Ґ«Ё« «  ЇаЁ¬Ґа1.ipynb\n",
      "18.02.2025  01:27             3я524 ‡ ¤ ­ЁҐ 2.ipynb\n",
      "18.02.2025  01:26             1я661 ‡ ¤ з .ipynb\n",
      "18.02.2025  01:29            10я231 Њ ЈЁз Є®¬ ­¤л.ipynb\n",
      "18.02.2025  01:25             1я501 ЏаЁўҐвбвўЁҐ.ipynb\n",
      "18.02.2025  01:21             1я076 ЏаЁ¬Ґа 2.ipynb\n",
      "18.02.2025  01:24            40я268 ЏаЁ¬Ґа 3.ipynb\n",
      "18.02.2025  01:29               617 ђ Ў®в  б ®Ў®«®з.ipynb\n",
      "              10 д ©«®ў         62я262 Ў ©в\n",
      "               4 Ї Ї®Є  121я170я296я832 Ў ©в бў®Ў®¤­®\n",
      "C:\\Ven\\anaconda\\python.exe\n",
      "C:\\Users\\Ќ®¬Ґ\\AppData\\Local\\Microsoft\\WindowsApps\\python.exe\n"
     ]
    }
   ],
   "source": [
    "!mkdir test_folder\n",
    "!dir\n",
    "!where python\n",
    "!rmdir test_folder"
   ]
  },
  {
   "cell_type": "code",
   "execution_count": null,
   "id": "9b42e215-14bc-4bd7-b92c-fba894563d5f",
   "metadata": {},
   "outputs": [],
   "source": []
  }
 ],
 "metadata": {
  "kernelspec": {
   "display_name": "Python 3 (ipykernel)",
   "language": "python",
   "name": "python3"
  },
  "language_info": {
   "codemirror_mode": {
    "name": "ipython",
    "version": 3
   },
   "file_extension": ".py",
   "mimetype": "text/x-python",
   "name": "python",
   "nbconvert_exporter": "python",
   "pygments_lexer": "ipython3",
   "version": "3.12.7"
  }
 },
 "nbformat": 4,
 "nbformat_minor": 5
}
