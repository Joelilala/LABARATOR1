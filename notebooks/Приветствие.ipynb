{
 "cells": [
  {
   "cell_type": "code",
   "execution_count": 1,
   "id": "c69a58a0-0091-4789-8511-2412e604dab0",
   "metadata": {},
   "outputs": [
    {
     "name": "stdin",
     "output_type": "stream",
     "text": [
      "Пожалуйста, введите ваше имя:  Maxim\n"
     ]
    },
    {
     "name": "stdout",
     "output_type": "stream",
     "text": [
      "Привет, Maxim! Добро пожаловать в JupyterLab / Google Colab!\n"
     ]
    }
   ],
   "source": [
    "# Запрашиваем имя у пользователя\n",
    "name = input(\"Пожалуйста, введите ваше имя: \")\n",
    "\n",
    "# Выводим приветствие с использованием введенного имени\n",
    "print(f\"Привет, {name}! Добро пожаловать в JupyterLab / Google Colab!\")\n"
   ]
  },
  {
   "cell_type": "code",
   "execution_count": null,
   "id": "d0f8e7ff-1af6-4166-be39-3a4637f687c2",
   "metadata": {},
   "outputs": [],
   "source": []
  }
 ],
 "metadata": {
  "kernelspec": {
   "display_name": "Python 3 (ipykernel)",
   "language": "python",
   "name": "python3"
  },
  "language_info": {
   "codemirror_mode": {
    "name": "ipython",
    "version": 3
   },
   "file_extension": ".py",
   "mimetype": "text/x-python",
   "name": "python",
   "nbconvert_exporter": "python",
   "pygments_lexer": "ipython3",
   "version": "3.12.7"
  }
 },
 "nbformat": 4,
 "nbformat_minor": 5
}
