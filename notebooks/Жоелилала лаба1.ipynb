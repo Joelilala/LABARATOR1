{
 "cells": [
  {
   "cell_type": "markdown",
   "id": "830311a5",
   "metadata": {},
   "source": [
    "# Практическая работа № 1\n",
    "*Слова для курсива*\n",
    "***Жирный текст***\n",
    "1. Нумерованый список\n",
    "2. Текст для списка\n",
    "3. Так же текст\n",
    "- Маркированный список\n",
    "- Текст для списка\n",
    "- Так же текст\n",
    "\n",
    "$ e^x=\\sum_{n=0}^{\\infty} \\frac{x^n}{n!} $\n",
    "\n",
    "![Тони старк в городе](‪C:\\Users\\Student\\Downloads\\тоникарк.jpg)\n"
   ]
  }
 ],
 "metadata": {
  "kernelspec": {
   "display_name": "Python 3",
   "language": "python",
   "name": "python3"
  },
  "language_info": {
   "codemirror_mode": {
    "name": "ipython",
    "version": 3
   },
   "file_extension": ".py",
   "mimetype": "text/x-python",
   "name": "python",
   "nbconvert_exporter": "python",
   "pygments_lexer": "ipython3",
   "version": "3.8.8"
  }
 },
 "nbformat": 4,
 "nbformat_minor": 5
}
