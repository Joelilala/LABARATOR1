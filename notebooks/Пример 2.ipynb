{
 "cells": [
  {
   "cell_type": "markdown",
   "id": "94322b92-54f1-4aef-b142-9b15f946f605",
   "metadata": {},
   "source": [
    "# Заголовок первого уровня\n",
    "## Заголовок второго уровня\n",
    "**Полужирный текст**, *курсив*, `код в строке`\n",
    "Список:\n",
    "- Пункт 1\n",
    "- Пункт 2\n",
    "- Пункт 3\n",
    "Формула: $y = mx + b$"
   ]
  },
  {
   "cell_type": "code",
   "execution_count": null,
   "id": "3f207c0e-8c22-41b9-89c2-abcc0eb43eb2",
   "metadata": {},
   "outputs": [],
   "source": []
  }
 ],
 "metadata": {
  "kernelspec": {
   "display_name": "Python 3 (ipykernel)",
   "language": "python",
   "name": "python3"
  },
  "language_info": {
   "codemirror_mode": {
    "name": "ipython",
    "version": 3
   },
   "file_extension": ".py",
   "mimetype": "text/x-python",
   "name": "python",
   "nbconvert_exporter": "python",
   "pygments_lexer": "ipython3",
   "version": "3.12.7"
  }
 },
 "nbformat": 4,
 "nbformat_minor": 5
}
