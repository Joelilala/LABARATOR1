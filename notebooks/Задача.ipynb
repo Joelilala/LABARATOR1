{
 "cells": [
  {
   "cell_type": "code",
   "execution_count": 1,
   "id": "236d0c9f-a80e-4e57-87b7-d328f4d8f869",
   "metadata": {},
   "outputs": [
    {
     "name": "stdin",
     "output_type": "stream",
     "text": [
      "Введите радиус круга:  12\n"
     ]
    },
    {
     "name": "stdout",
     "output_type": "stream",
     "text": [
      "Площадь круга с радиусом 12.0 равна 452.38895999999994\n"
     ]
    }
   ],
   "source": [
    "# Простая математическая задача: вычисление площади круга\n",
    "\n",
    "# Запрашиваем у пользователя радиус круга\n",
    "radius = float(input(\"Введите радиус круга: \"))\n",
    "\n",
    "# Вычисляем площадь круга\n",
    "area = 3.14159 * radius * radius\n",
    "\n",
    "# Выводим результат\n",
    "print(\"Площадь круга с радиусом\", radius, \"равна\", area)\n",
    "\n"
   ]
  },
  {
   "cell_type": "code",
   "execution_count": null,
   "id": "be411dca-6540-4637-9798-652bcfc80f5a",
   "metadata": {},
   "outputs": [],
   "source": []
  }
 ],
 "metadata": {
  "kernelspec": {
   "display_name": "Python 3 (ipykernel)",
   "language": "python",
   "name": "python3"
  },
  "language_info": {
   "codemirror_mode": {
    "name": "ipython",
    "version": 3
   },
   "file_extension": ".py",
   "mimetype": "text/x-python",
   "name": "python",
   "nbconvert_exporter": "python",
   "pygments_lexer": "ipython3",
   "version": "3.12.7"
  }
 },
 "nbformat": 4,
 "nbformat_minor": 5
}
